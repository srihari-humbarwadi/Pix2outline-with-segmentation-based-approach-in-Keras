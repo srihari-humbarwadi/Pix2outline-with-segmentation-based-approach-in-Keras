{
 "cells": [
  {
   "cell_type": "code",
   "execution_count": null,
   "metadata": {},
   "outputs": [],
   "source": [
    "import os\n",
    "from tensorflow.python.keras.preprocessing import image\n",
    "import cv2\n",
    "from multiclassunet import Unet\n",
    "import tqdm\n",
    "import os\n",
    "import random\n",
    "import time\n",
    "import numpy as np\n",
    "import json\n",
    "from moviepy.editor import VideoFileClip, ImageSequenceClip\n",
    "import matplotlib.pyplot as plt"
   ]
  },
  {
   "cell_type": "code",
   "execution_count": null,
   "metadata": {},
   "outputs": [],
   "source": [
    "h, w = 256, 256\n",
    "with open('config.json', 'r') as f:\n",
    "    config = json.load(f)\n",
    "labels = config['labels']\n",
    "color_map = {}\n",
    "for label in labels:\n",
    "    color_map[label['readable']] = label['color']\n",
    "label_list = sorted(color_map.keys())\n",
    "id_to_color = {v:color_map[k] for v,k in enumerate(label_list)}\n",
    "id_to_label = {v:k for v,k in enumerate(label_list)}"
   ]
  },
  {
   "cell_type": "code",
   "execution_count": null,
   "metadata": {},
   "outputs": [],
   "source": [
    "unet = Unet(h, w, 66)\n",
    "unet.load_weights('unet_new.h5')"
   ]
  },
  {
   "cell_type": "code",
   "execution_count": null,
   "metadata": {},
   "outputs": [],
   "source": [
    "def pipeline(image, video=True, return_seg=False, to_outline=True):\n",
    "    alpha = 0.65\n",
    "    dims = image.shape\n",
    "    x = cv2.resize(image, (w, h))\n",
    "    x = np.float32(x)/255.\n",
    "    z = unet.predict(np.expand_dims(x, axis=0))\n",
    "    z = np.squeeze(z)\n",
    "    z = cv2.resize(z, (dims[1], dims[0]))\n",
    "    y = np.argmax(z, axis=2)\n",
    "    \n",
    "    img_color = image.copy()   \n",
    "    for i in np.unique(y):\n",
    "        img_color[y==i] = id_to_color[i]\n",
    "    if video:\n",
    "        if to_outline:\n",
    "            return segmap_to_outline(img_color)\n",
    "        cv2.addWeighted(image, alpha, img_color, 1-alpha, 0, img_color)        \n",
    "        return img_color\n",
    "    if return_seg:\n",
    "        cv2.imwrite(f'tmp/{np.random.randint(0,5000)}.png',  cv2.cvtColor(img_color, cv2.COLOR_RGB2BGR))\n",
    "        return img_color/255.\n",
    "    else:\n",
    "        if to_outline:\n",
    "            outline = segmap_to_outline(img_color)\n",
    "#             plt.imshow(outline/255.)\n",
    "            cv2.imwrite(f'tmp/{np.random.randint(0,5000)}.png',  cv2.cvtColor(outline, cv2.COLOR_RGB2BGR))\n",
    "            return\n",
    "        cv2.addWeighted(image, alpha, img_color, 1-alpha, 0, img_color)        \n",
    "        plt.figure(figsize=(15, 10))\n",
    "        plt.imshow(img_color/255.0)\n",
    "#     cv2.imwrite(f'outputs/{np.random.randint(0,5000)}.png',  cv2.cvtColor(img_color, cv2.COLOR_RGB2BGR))\n",
    "\n",
    "\n",
    "def segmap_to_outline(segmap):\n",
    "    img_height, img_width = segmap.shape[0], segmap.shape[1]\n",
    "    segmap = cv2.cvtColor(segmap, cv2.COLOR_BGR2GRAY)\n",
    "    outline = np.full_like(segmap, 255.)\n",
    "    for i in range(2,img_height-2):\n",
    "        for j in range(2,img_width-2):\n",
    "            pixel = segmap[i, j]\n",
    "            top = segmap[i+2,j]\n",
    "            bottom = segmap[i-2,j]\n",
    "            left = segmap[i,j-2]\n",
    "            right = segmap[i,j+2]\n",
    "            top_right = segmap[i+2,j+2]\n",
    "            top_left = segmap[i+2,j-2]\n",
    "            bottom_right = segmap[i-2,j+2]\n",
    "            bottom_left = segmap[i-2,j-2]\n",
    "            if len(set([pixel, top, bottom, left, right, top_right, top_left, bottom_right, bottom_left])) != 1:\n",
    "                outline[i, j] = 0\n",
    "    return np.stack([outline]*3, axis=-1)"
   ]
  },
  {
   "cell_type": "code",
   "execution_count": null,
   "metadata": {},
   "outputs": [],
   "source": [
    "clip = VideoFileClip('../scene-parsing/karol.mp4', target_resolution=(360, 640))\n",
    "res = clip.fl_image(pipeline)\n",
    "res.write_videofile('karol_outline.mp4', audio=False)"
   ]
  },
  {
   "cell_type": "code",
   "execution_count": null,
   "metadata": {},
   "outputs": [],
   "source": [
    "plt.imshow(pipeline(clip.get_frame(22)))"
   ]
  },
  {
   "cell_type": "code",
   "execution_count": null,
   "metadata": {},
   "outputs": [],
   "source": [
    "test_dir = 'validate'\n",
    "image_list = os.listdir(test_dir)\n",
    "print(f'{len(image_list)} frames found')"
   ]
  },
  {
   "cell_type": "code",
   "execution_count": null,
   "metadata": {},
   "outputs": [],
   "source": [
    "# for i in np.random.randint(0,1100,20):\n",
    "i = 900\n",
    "test = image.load_img(f'{test_dir}/{image_list[i]}')\n",
    "test = image.img_to_array(test)\n",
    "seg = pipeline(test, video=False, to_outline=True)\n",
    "plt.imshow(seg)"
   ]
  }
 ],
 "metadata": {
  "kernelspec": {
   "display_name": "Python 3",
   "language": "python",
   "name": "python3"
  },
  "language_info": {
   "codemirror_mode": {
    "name": "ipython",
    "version": 3
   },
   "file_extension": ".py",
   "mimetype": "text/x-python",
   "name": "python",
   "nbconvert_exporter": "python",
   "pygments_lexer": "ipython3",
   "version": "3.6.5"
  }
 },
 "nbformat": 4,
 "nbformat_minor": 2
}
